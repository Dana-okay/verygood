{
  "nbformat": 4,
  "nbformat_minor": 0,
  "metadata": {
    "colab": {
      "name": "신데렐라 심화교육 (QR코드, 엑셀파일, 이미지 다루기).ipynb",
      "provenance": [],
      "collapsed_sections": [],
      "authorship_tag": "ABX9TyPya5NBZqYdKSBvd4iEvwJu",
      "include_colab_link": true
    },
    "kernelspec": {
      "name": "python3",
      "display_name": "Python 3"
    }
  },
  "cells": [
    {
      "cell_type": "markdown",
      "metadata": {
        "id": "view-in-github",
        "colab_type": "text"
      },
      "source": [
        "<a href=\"https://colab.research.google.com/github/Dana-okay/verygood/blob/master/%EC%8B%A0%EB%8D%B0%EB%A0%90%EB%9D%BC_%EC%8B%AC%ED%99%94%EA%B5%90%EC%9C%A1_(QR%EC%BD%94%EB%93%9C%2C_%EC%97%91%EC%85%80%ED%8C%8C%EC%9D%BC%2C_%EC%9D%B4%EB%AF%B8%EC%A7%80_%EB%8B%A4%EB%A3%A8%EA%B8%B0).ipynb\" target=\"_parent\"><img src=\"https://colab.research.google.com/assets/colab-badge.svg\" alt=\"Open In Colab\"/></a>"
      ]
    },
    {
      "cell_type": "markdown",
      "metadata": {
        "id": "yKXMuudNO8K-"
      },
      "source": [
        "# 👩 QR 코드를 만들어 봅시다"
      ]
    },
    {
      "cell_type": "code",
      "metadata": {
        "id": "dM8-tJ1hcIM9"
      },
      "source": [
        "#[사전작업] 참석자들의 구글 계정이 있는지 확인합니다.\r\n",
        "\r\n",
        "#[사전작업] WIFI망을 eps-wifi에 연결되었는지 확인합니다.\r\n",
        "\r\n",
        "#[사전작업] 저장할 폴더를 하나 만들어 봅시다.\r\n",
        "\r\n",
        "#[사전작업] 구글드라이브와 로컬폴더를 연동해 봅시다.\r\n",
        "\r\n",
        " "
      ],
      "execution_count": null,
      "outputs": []
    },
    {
      "cell_type": "code",
      "metadata": {
        "id": "0ou9lyZjSAYG",
        "colab": {
          "base_uri": "https://localhost:8080/"
        },
        "outputId": "58400bac-f62b-4891-aa1a-7587eae52462"
      },
      "source": [
        "#QR코드 라이브러리 다운받기 \r\n",
        "!pip install qrcode[pil]\r\n",
        "!pip install opencv-python"
      ],
      "execution_count": 123,
      "outputs": [
        {
          "output_type": "stream",
          "text": [
            "Requirement already satisfied: qrcode[pil] in /usr/local/lib/python3.7/dist-packages (6.1)\n",
            "Requirement already satisfied: six in /usr/local/lib/python3.7/dist-packages (from qrcode[pil]) (1.15.0)\n",
            "Requirement already satisfied: pillow; extra == \"pil\" in /usr/local/lib/python3.7/dist-packages (from qrcode[pil]) (7.0.0)\n",
            "Requirement already satisfied: opencv-python in /usr/local/lib/python3.7/dist-packages (4.1.2.30)\n",
            "Requirement already satisfied: numpy>=1.14.5 in /usr/local/lib/python3.7/dist-packages (from opencv-python) (1.19.5)\n"
          ],
          "name": "stdout"
        }
      ]
    },
    {
      "cell_type": "code",
      "metadata": {
        "id": "MIuS36SrbDvm"
      },
      "source": [
        "#다운로드한 라이브러리 임포트하기\r\n",
        "import os #파이썬 언어를 쓸 때 기본적으로 사용하는 라이브러리 \r\n",
        "import qrcode #qrcode를 생성하고 수정할 수 있는 라이브러리\r\n",
        "\r\n",
        "#QRcode 만들기\r\n",
        "qr = qrcode.make('oh my eyes')\r\n",
        "\r\n",
        "#qrcode 저장하기\r\n",
        "qr.save('firstqr.png')\r\n",
        "\r\n",
        "#색상이 다른 QR 코드 만들기\r\n",
        "just = qrcode.QRCode()\r\n",
        "just.add_data('it is red')\r\n",
        "red = just.make_image(fill_color = \"red\", bacl_color =\"yellow\")\r\n",
        "red.save('red.png')\r\n"
      ],
      "execution_count": 124,
      "outputs": []
    },
    {
      "cell_type": "markdown",
      "metadata": {
        "id": "HwxwLAicO80A"
      },
      "source": [
        "# 👨이미지를 다뤄 봅시다.\r\n"
      ]
    },
    {
      "cell_type": "code",
      "metadata": {
        "id": "dcxJA_A0fjk6"
      },
      "source": [
        "# 라이브러리 가져오기\r\n",
        "from PIL import Image #이미지 수정 라이브러리\r\n",
        "import cv2 #실시간 영상 및 이미지를 다루는 라이브러리\r\n",
        "from IPython.display import Image #colab에서 이미지 열기 라이브러리\r\n",
        "from google.colab.patches import cv2_imshow #Colab에서 이미지를 보여주는 라이브러리"
      ],
      "execution_count": 125,
      "outputs": []
    },
    {
      "cell_type": "code",
      "metadata": {
        "colab": {
          "base_uri": "https://localhost:8080/",
          "height": 597
        },
        "id": "6uJHf3J_frjb",
        "outputId": "eb94294f-d502-4274-9a50-8c6bacb46ba1"
      },
      "source": [
        "# 저장한 qr코드 열기\r\n",
        "qr = cv2.imread('firstqr.png')\r\n",
        "red = cv2.imread('red.png')\r\n",
        "\r\n",
        "cv2_imshow(qr)\r\n",
        "cv2_imshow(red)"
      ],
      "execution_count": 126,
      "outputs": [
        {
          "output_type": "display_data",
          "data": {
            "image/png": "[encoded data removed]",
            "text/plain": [
              "<PIL.Image.Image image mode=RGB size=290x290 at 0x7F5993123F90>"
            ]
          },
          "metadata": {
            "tags": []
          }
        },
        {
          "output_type": "display_data",
          "data": {
            "image/png": "[encoded data removed]",
            "text/plain": [
              "<PIL.Image.Image image mode=RGB size=290x290 at 0x7F59931178D0>"
            ]
          },
          "metadata": {
            "tags": []
          }
        }
      ]
    },
    {
      "cell_type": "code",
      "metadata": {
        "colab": {
          "base_uri": "https://localhost:8080/"
        },
        "id": "MFeHFWuYgokX",
        "outputId": "9bd94452-c677-4c22-d991-bd959848a9e5"
      },
      "source": [
        "#이미지 크기 출력하기\r\n",
        "print(img.size)"
      ],
      "execution_count": 127,
      "outputs": [
        {
          "output_type": "stream",
          "text": [
            "(290, 290)\n"
          ],
          "name": "stdout"
        }
      ]
    },
    {
      "cell_type": "code",
      "metadata": {
        "colab": {
          "base_uri": "https://localhost:8080/",
          "height": 307
        },
        "id": "KwirbEmfhj1o",
        "outputId": "b6b2c0d1-8375-430b-e252-b68f2253ca25"
      },
      "source": [
        "#qr코드 이미지 불러와 자르기\r\n",
        "crop = qr[30:260,30:260].copy() \r\n",
        "cv2.imwrite('crop.png',crop)\r\n",
        "cv2_imshow(crop)\r\n",
        "\r\n",
        "#새로운 이미지 저장 후 이미지 줄이기\r\n",
        "iu = cv2.imread('iu.jpg')\r\n",
        "small = cv2.resize(iu,(60,60))\r\n",
        "cv2.imwrite('small_iu.jpg',small)\r\n",
        "cv2_imshow(small)\r\n"
      ],
      "execution_count": 150,
      "outputs": [
        {
          "output_type": "display_data",
          "data": {
            "image/png": "[encoded data removed]",
            "text/plain": [
              "<PIL.Image.Image image mode=RGB size=230x230 at 0x7F59930F6990>"
            ]
          },
          "metadata": {
            "tags": []
          }
        },
        {
          "output_type": "display_data",
          "data": {
            "image/png": "[encoded data removed]",
            "text/plain": [
              "<PIL.Image.Image image mode=RGB size=60x60 at 0x7F59930F6690>"
            ]
          },
          "metadata": {
            "tags": []
          }
        }
      ]
    },
    {
      "cell_type": "code",
      "metadata": {
        "colab": {
          "base_uri": "https://localhost:8080/",
          "height": 247
        },
        "id": "fxVd1zvvqHK3",
        "outputId": "8b98948e-8eb5-47b6-88f8-b4074f03ef4f"
      },
      "source": [
        "#qr코드 이미지와 iu이미지 합치기 \r\n",
        "ver = (crop.shape[0]-small.shape[0])//2\r\n",
        "hor = (crop.shape[1]-small.shape[1])//2\r\n",
        "\r\n",
        "crop[ver:ver+small.shape[0],hor:hor+small.shape[1]] = small\r\n",
        "cv2_imshow(crop)"
      ],
      "execution_count": 154,
      "outputs": [
        {
          "output_type": "display_data",
          "data": {
            "image/png": "[encoded data removed]",
            "text/plain": [
              "<PIL.Image.Image image mode=RGB size=230x230 at 0x7F59930DEAD0>"
            ]
          },
          "metadata": {
            "tags": []
          }
        }
      ]
    },
    {
      "cell_type": "code",
      "metadata": {
        "id": "s80WBW5h18fq"
      },
      "source": [
        "#[예시] 명함에 QR코드 넣기 "
      ],
      "execution_count": null,
      "outputs": []
    },
    {
      "cell_type": "markdown",
      "metadata": {
        "id": "tyzQcQGnO8ju"
      },
      "source": [
        "# 👶 엑셀파일을 다뤄 봅시다.\r\n"
      ]
    },
    {
      "cell_type": "code",
      "metadata": {
        "id": "0VDUA87N2OPh"
      },
      "source": [
        "import openpyxl #엑셀파일에 접근가능한 라이브러리"
      ],
      "execution_count": 156,
      "outputs": []
    },
    {
      "cell_type": "markdown",
      "metadata": {
        "id": "gS-FIwhJO9FV"
      },
      "source": [
        "#👪 모두 합쳐서 이미지를 대량으로 생성해 봅시다.\r\n",
        "\r\n",
        "\r\n",
        "\r\n",
        "\r\n"
      ]
    },
    {
      "cell_type": "code",
      "metadata": {
        "id": "zUO15D9R3m97"
      },
      "source": [
        ""
      ],
      "execution_count": null,
      "outputs": []
    }
  ]
}